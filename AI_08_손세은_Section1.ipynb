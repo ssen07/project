{
  "nbformat": 4,
  "nbformat_minor": 0,
  "metadata": {
    "colab": {
      "name": "Untitled3.ipynb",
      "provenance": []
    },
    "kernelspec": {
      "name": "python3",
      "display_name": "Python 3"
    },
    "language_info": {
      "name": "python"
    }
  },
  "cells": [
    {
      "cell_type": "code",
      "metadata": {
        "colab": {
          "resources": {
            "http://localhost:8080/nbextensions/google.colab/files.js": {
              "data": "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",
              "ok": true,
              "headers": [
                [
                  "content-type",
                  "application/javascript"
                ]
              ],
              "status": 200,
              "status_text": ""
            }
          },
          "base_uri": "https://localhost:8080/",
          "height": 815
        },
        "id": "R6qY7DciXBVX",
        "outputId": "3becedd3-fcb7-4815-fd5a-e5d3856ca50d"
      },
      "source": [
        "import pandas as pd\n",
        "import numpy as np\n",
        "from google.colab import files\n",
        "uploaded = files.upload()\n",
        "df = pd.read_csv('vgames2.csv')\n",
        "df=df.iloc[:, 1:]\n",
        "df.head()\n",
        "\n",
        "pd.options.display.float_format = '{:.2f}'.format #소수점 둘째자리까지만 표현\n",
        "\n",
        "df.duplicated(keep='first')\n",
        "df.fillna(\"Unknown\",inplace=True) \n",
        "\n",
        "df['NA_Sales']=df['NA_Sales'].replace({'K':'*0.0001','M':' '},regex=True).map(pd.eval).astype(float)\n",
        "df['EU_Sales']=df['EU_Sales'].replace({'K':'*0.0001','M':' '},regex=True).map(pd.eval).astype(float)\n",
        "df['JP_Sales']=df['JP_Sales'].replace({'K':'*0.0001','M':' '},regex=True).map(pd.eval).astype(float)\n",
        "df['Other_Sales']=df['Other_Sales'].replace({'K':'*0.0001','M':' '},regex=True).map(pd.eval).astype(float)\n",
        "df\n",
        "\n",
        "df=df[df.Year!='Unknown'] #출시년도 unknown 삭제(데이터전처리limitation)\n",
        "df['Year']=df['Year'].dropna()\n",
        "df['Year']=df['Year'].apply(pd.to_numeric)\n",
        "\n",
        "def years(x):\n",
        "  if x <50:\n",
        "    x=+2000\n",
        "  if 50<=x<=99:\n",
        "    x=+1900\n",
        "  else:\n",
        "    return x\n",
        "\n",
        "df['Year']=df['Year'].apply(years)\n",
        "df=df.sort_values('Year',ascending=True)\n",
        "df=df.dropna()\n",
        "\n",
        "df['Year']=df['Year'].astype(int)\n",
        "df['Total_Sales']=df['NA_Sales']+df['EU_Sales']+df['JP_Sales']+df['Other_Sales']\n",
        "df"
      ],
      "execution_count": null,
      "outputs": [
        {
          "output_type": "display_data",
          "data": {
            "text/html": [
              "\n",
              "     <input type=\"file\" id=\"files-3bf79b9f-8ea9-4b5c-8be2-2f0a4509bdc1\" name=\"files[]\" multiple disabled\n",
              "        style=\"border:none\" />\n",
              "     <output id=\"result-3bf79b9f-8ea9-4b5c-8be2-2f0a4509bdc1\">\n",
              "      Upload widget is only available when the cell has been executed in the\n",
              "      current browser session. Please rerun this cell to enable.\n",
              "      </output>\n",
              "      <script src=\"/nbextensions/google.colab/files.js\"></script> "
            ],
            "text/plain": [
              "<IPython.core.display.HTML object>"
            ]
          },
          "metadata": {}
        },
        {
          "output_type": "stream",
          "name": "stdout",
          "text": [
            "Saving vgames2.csv to vgames2 (3).csv\n"
          ]
        },
        {
          "output_type": "execute_result",
          "data": {
            "text/html": [
              "<div>\n",
              "<style scoped>\n",
              "    .dataframe tbody tr th:only-of-type {\n",
              "        vertical-align: middle;\n",
              "    }\n",
              "\n",
              "    .dataframe tbody tr th {\n",
              "        vertical-align: top;\n",
              "    }\n",
              "\n",
              "    .dataframe thead th {\n",
              "        text-align: right;\n",
              "    }\n",
              "</style>\n",
              "<table border=\"1\" class=\"dataframe\">\n",
              "  <thead>\n",
              "    <tr style=\"text-align: right;\">\n",
              "      <th></th>\n",
              "      <th>Name</th>\n",
              "      <th>Platform</th>\n",
              "      <th>Year</th>\n",
              "      <th>Genre</th>\n",
              "      <th>Publisher</th>\n",
              "      <th>NA_Sales</th>\n",
              "      <th>EU_Sales</th>\n",
              "      <th>JP_Sales</th>\n",
              "      <th>Other_Sales</th>\n",
              "      <th>Total_Sales</th>\n",
              "    </tr>\n",
              "  </thead>\n",
              "  <tbody>\n",
              "    <tr>\n",
              "      <th>12314</th>\n",
              "      <td>Ice Hockey</td>\n",
              "      <td>2600</td>\n",
              "      <td>1980</td>\n",
              "      <td>Unknown</td>\n",
              "      <td>Activision</td>\n",
              "      <td>0.46</td>\n",
              "      <td>0.03</td>\n",
              "      <td>0.00</td>\n",
              "      <td>0.01</td>\n",
              "      <td>0.50</td>\n",
              "    </tr>\n",
              "    <tr>\n",
              "      <th>9226</th>\n",
              "      <td>Bridge</td>\n",
              "      <td>2600</td>\n",
              "      <td>1980</td>\n",
              "      <td>Misc</td>\n",
              "      <td>Activision</td>\n",
              "      <td>0.25</td>\n",
              "      <td>0.02</td>\n",
              "      <td>0.00</td>\n",
              "      <td>0.00</td>\n",
              "      <td>0.27</td>\n",
              "    </tr>\n",
              "    <tr>\n",
              "      <th>10121</th>\n",
              "      <td>Defender</td>\n",
              "      <td>2600</td>\n",
              "      <td>1980</td>\n",
              "      <td>Misc</td>\n",
              "      <td>Atari</td>\n",
              "      <td>0.99</td>\n",
              "      <td>0.05</td>\n",
              "      <td>0.00</td>\n",
              "      <td>0.01</td>\n",
              "      <td>1.05</td>\n",
              "    </tr>\n",
              "    <tr>\n",
              "      <th>13133</th>\n",
              "      <td>Freeway</td>\n",
              "      <td>2600</td>\n",
              "      <td>1980</td>\n",
              "      <td>Action</td>\n",
              "      <td>Activision</td>\n",
              "      <td>0.32</td>\n",
              "      <td>0.02</td>\n",
              "      <td>0.00</td>\n",
              "      <td>0.00</td>\n",
              "      <td>0.34</td>\n",
              "    </tr>\n",
              "    <tr>\n",
              "      <th>7317</th>\n",
              "      <td>Checkers</td>\n",
              "      <td>2600</td>\n",
              "      <td>1980</td>\n",
              "      <td>Misc</td>\n",
              "      <td>Atari</td>\n",
              "      <td>0.22</td>\n",
              "      <td>0.01</td>\n",
              "      <td>0.00</td>\n",
              "      <td>0.00</td>\n",
              "      <td>0.23</td>\n",
              "    </tr>\n",
              "    <tr>\n",
              "      <th>...</th>\n",
              "      <td>...</td>\n",
              "      <td>...</td>\n",
              "      <td>...</td>\n",
              "      <td>...</td>\n",
              "      <td>...</td>\n",
              "      <td>...</td>\n",
              "      <td>...</td>\n",
              "      <td>...</td>\n",
              "      <td>...</td>\n",
              "      <td>...</td>\n",
              "    </tr>\n",
              "    <tr>\n",
              "      <th>10244</th>\n",
              "      <td>Rugby Challenge 3</td>\n",
              "      <td>PS4</td>\n",
              "      <td>2016</td>\n",
              "      <td>Sports</td>\n",
              "      <td>Alternative Software</td>\n",
              "      <td>0.00</td>\n",
              "      <td>0.03</td>\n",
              "      <td>0.00</td>\n",
              "      <td>0.01</td>\n",
              "      <td>0.04</td>\n",
              "    </tr>\n",
              "    <tr>\n",
              "      <th>10107</th>\n",
              "      <td>Phantasy Star Online 2 Episode 4: Deluxe Package</td>\n",
              "      <td>PS4</td>\n",
              "      <td>2017</td>\n",
              "      <td>Role-Playing</td>\n",
              "      <td>Sega</td>\n",
              "      <td>0.00</td>\n",
              "      <td>0.00</td>\n",
              "      <td>0.03</td>\n",
              "      <td>0.00</td>\n",
              "      <td>0.03</td>\n",
              "    </tr>\n",
              "    <tr>\n",
              "      <th>5310</th>\n",
              "      <td>Brothers Conflict: Precious Baby</td>\n",
              "      <td>PSV</td>\n",
              "      <td>2017</td>\n",
              "      <td>Action</td>\n",
              "      <td>Idea Factory</td>\n",
              "      <td>0.00</td>\n",
              "      <td>0.00</td>\n",
              "      <td>0.01</td>\n",
              "      <td>0.00</td>\n",
              "      <td>0.01</td>\n",
              "    </tr>\n",
              "    <tr>\n",
              "      <th>15233</th>\n",
              "      <td>Phantasy Star Online 2 Episode 4: Deluxe Package</td>\n",
              "      <td>PSV</td>\n",
              "      <td>2017</td>\n",
              "      <td>Role-Playing</td>\n",
              "      <td>Sega</td>\n",
              "      <td>0.00</td>\n",
              "      <td>0.00</td>\n",
              "      <td>0.01</td>\n",
              "      <td>0.00</td>\n",
              "      <td>0.01</td>\n",
              "    </tr>\n",
              "    <tr>\n",
              "      <th>6906</th>\n",
              "      <td>Imagine: Makeup Artist</td>\n",
              "      <td>DS</td>\n",
              "      <td>2020</td>\n",
              "      <td>Simulation</td>\n",
              "      <td>Ubisoft</td>\n",
              "      <td>0.27</td>\n",
              "      <td>0.00</td>\n",
              "      <td>0.00</td>\n",
              "      <td>0.02</td>\n",
              "      <td>0.29</td>\n",
              "    </tr>\n",
              "  </tbody>\n",
              "</table>\n",
              "<p>16313 rows × 10 columns</p>\n",
              "</div>"
            ],
            "text/plain": [
              "                                                   Name  ... Total_Sales\n",
              "12314                                        Ice Hockey  ...        0.50\n",
              "9226                                             Bridge  ...        0.27\n",
              "10121                                          Defender  ...        1.05\n",
              "13133                                           Freeway  ...        0.34\n",
              "7317                                           Checkers  ...        0.23\n",
              "...                                                 ...  ...         ...\n",
              "10244                                 Rugby Challenge 3  ...        0.04\n",
              "10107  Phantasy Star Online 2 Episode 4: Deluxe Package  ...        0.03\n",
              "5310                   Brothers Conflict: Precious Baby  ...        0.01\n",
              "15233  Phantasy Star Online 2 Episode 4: Deluxe Package  ...        0.01\n",
              "6906                             Imagine: Makeup Artist  ...        0.29\n",
              "\n",
              "[16313 rows x 10 columns]"
            ]
          },
          "metadata": {},
          "execution_count": 107
        }
      ]
    },
    {
      "cell_type": "code",
      "metadata": {
        "colab": {
          "base_uri": "https://localhost:8080/",
          "height": 629
        },
        "id": "NDBw25sKTlbp",
        "outputId": "861f9eab-b110-4330-bd9a-34ccc1e1e94a"
      },
      "source": [
        "#지역에 따라서 선호하는 게임 장르가 다를까 \n",
        "\n",
        "df_1=df[['Genre','NA_Sales','EU_Sales','JP_Sales','Other_Sales','Total_Sales']]\n",
        "group1=df_1.groupby('Genre').mean()\n",
        "group1=pd.DataFrame(group1)\n",
        "group1=group1.drop(['Unknown'])\n",
        "\n",
        "na=pd.DataFrame(group1['NA_Sales'])\n",
        "na=na.sort_values(by='NA_Sales',ascending=False)\n",
        "na.reset_index(inplace=True)\n",
        "print(na.head(3))\n",
        "print('----------------------')\n",
        "\n",
        "eu=pd.DataFrame(group1['EU_Sales'])\n",
        "eu=eu.sort_values(by='EU_Sales',ascending=False)\n",
        "eu.reset_index(inplace=True)\n",
        "print(eu.head(3))\n",
        "print('----------------------')\n",
        "\n",
        "jp=pd.DataFrame(group1['JP_Sales'])\n",
        "jp=jp.sort_values(by='JP_Sales',ascending=False)\n",
        "jp.reset_index(inplace=True)\n",
        "print(jp.head(3))\n",
        "print('--------------------------')\n",
        "\n",
        "other=pd.DataFrame(group1['Other_Sales'])\n",
        "other=other.sort_values(by='Other_Sales',ascending=False)\n",
        "other.reset_index(inplace=True)\n",
        "print(other.head(3))\n",
        "print('------------------------')\n",
        "\n",
        "total=pd.DataFrame(group1['Total_Sales'])\n",
        "total=total.sort_values(by='Total_Sales',ascending=False)\n",
        "total.reset_index(inplace=True)\n",
        "print(total.head(3))\n",
        "print('------------------------')\n",
        "\n",
        "group1=group1.T\n",
        "group1.reset_index(inplace=True)\n",
        "group1=group1.melt(id_vars='index',value_vars =group1.columns[1:])\n",
        "\n",
        "import seaborn as sns\n",
        "import matplotlib.pyplot as plt\n",
        "\n",
        "sns.catplot(x='Genre',y='value',col='index',kind='bar',data=group1,height=10, aspect=1);\n",
        "plt.show()\n"
      ],
      "execution_count": null,
      "outputs": [
        {
          "output_type": "stream",
          "name": "stdout",
          "text": [
            "      Genre  NA_Sales\n",
            "0  Platform      0.51\n",
            "1   Shooter      0.45\n",
            "2    Sports      0.29\n",
            "----------------------\n",
            "      Genre  EU_Sales\n",
            "0   Shooter      0.24\n",
            "1  Platform      0.23\n",
            "2    Racing      0.19\n",
            "----------------------\n",
            "          Genre  JP_Sales\n",
            "0  Role-Playing      0.23\n",
            "1      Platform      0.15\n",
            "2      Fighting      0.10\n",
            "--------------------------\n",
            "      Genre  Other_Sales\n",
            "0   Shooter         0.08\n",
            "1    Racing         0.06\n",
            "2  Platform         0.06\n",
            "------------------------\n",
            "          Genre  Total_Sales\n",
            "0      Platform         0.94\n",
            "1       Shooter         0.80\n",
            "2  Role-Playing         0.61\n",
            "------------------------\n"
          ]
        },
        {
          "output_type": "display_data",
          "data": {
            "image/png": "[encoded data removed]",
            "text/plain": [
              "<Figure size 3600x720 with 5 Axes>"
            ]
          },
          "metadata": {
            "needs_background": "light"
          }
        }
      ]
    },
    {
      "cell_type": "code",
      "metadata": {
        "colab": {
          "base_uri": "https://localhost:8080/",
          "height": 1000
        },
        "id": "zUD40ECTW7c8",
        "outputId": "676a88e3-3e82-4c12-a58b-01483a8f2175"
      },
      "source": [
        "#연도별로 출시된 게임의 트렌드가 있을까\n",
        "\n",
        "import pandas as pd\n",
        "\n",
        "df_2=df[['Year','Genre','Total_Sales']]\n",
        "df_2=df_2.sort_values(by=[\"Year\"],ascending=[True]) \n",
        "df_2\n",
        "\n",
        "group2=df_2.groupby(['Genre','Year'])['Total_Sales'].mean()\n",
        "group2=pd.DataFrame(group2)\n",
        "group2=group2.drop(['Unknown'])\n",
        "group2.reset_index(inplace=True)\n",
        "group2\n",
        "\n",
        "def decade(x):\n",
        "  if 1980<=x<1990:\n",
        "    return 1980\n",
        "  if 1990<=x<2000:\n",
        "    return 1990\n",
        "  if 2000<=x<2010:\n",
        "    return 2000\n",
        "  else:\n",
        "    return 2010\n",
        "\n",
        "group2['Year']=group2['Year'].apply(decade)\n",
        "group2\n",
        "\n",
        "group3=group2.groupby(['Year','Genre'])['Total_Sales'].sum()\n",
        "group3=pd.DataFrame(group3)\n",
        "group3.reset_index(inplace=True)\n",
        "group3\n",
        "\n",
        "g_1980s=group3[group3['Year']==1980]\n",
        "g_1990s=group3[group3['Year']==1990]\n",
        "g_2000s=group3[group3['Year']==2000]\n",
        "g_2010s=group3[group3['Year']==2010]\n",
        "\n",
        "print(g_1980s)\n",
        "plt.figure(figsize=(10,3))\n",
        "bar_1980s=sns.barplot(x='Genre', y='Total_Sales', data=g_1980s).set_title('1980s')\n",
        "plt.show(bar_1980s)\n",
        "print('------------------------------------------------------------------------------------')\n",
        "\n",
        "print(g_1990s)\n",
        "plt.figure(figsize=(10,3))\n",
        "bar_1980s=sns.barplot(x='Genre', y='Total_Sales', data=g_1990s).set_title('1990s')\n",
        "plt.show(bar_1980s)\n",
        "print('------------------------------------------------------------------------------------')\n",
        "\n",
        "print(g_2000s)\n",
        "plt.figure(figsize=(10,3))\n",
        "bar_2000s=sns.barplot(x='Genre', y='Total_Sales', data=g_2000s).set_title('2000s')\n",
        "plt.show(bar_2000s)\n",
        "print('------------------------------------------------------------------------------------')\n",
        "\n",
        "print(g_2010s)\n",
        "plt.figure(figsize=(10,3))\n",
        "bar_2010s=sns.barplot(x='Genre', y='Total_Sales', data=g_2010s).set_title('2010s')\n",
        "plt.show(bar_2010s)\n",
        "print('------------------------------------------------------------------------------------')\n"
      ],
      "execution_count": 156,
      "outputs": [
        {
          "output_type": "stream",
          "name": "stdout",
          "text": [
            "    Year         Genre  Total_Sales\n",
            "0   1980        Action        11.35\n",
            "1   1980     Adventure         4.78\n",
            "2   1980      Fighting         4.53\n",
            "3   1980          Misc         6.42\n",
            "4   1980      Platform        32.50\n",
            "5   1980        Puzzle        20.22\n",
            "6   1980        Racing         7.35\n",
            "7   1980  Role-Playing         7.13\n",
            "8   1980       Shooter        20.17\n",
            "9   1980    Simulation         0.51\n",
            "10  1980        Sports        15.46\n"
          ]
        },
        {
          "output_type": "display_data",
          "data": {
            "image/png": "[encoded data removed]",
            "text/plain": [
              "<Figure size 720x216 with 1 Axes>"
            ]
          },
          "metadata": {
            "needs_background": "light"
          }
        },
        {
          "output_type": "stream",
          "name": "stdout",
          "text": [
            "------------------------------------------------------------------------------------\n",
            "    Year         Genre  Total_Sales\n",
            "11  1990        Action        11.92\n",
            "12  1990     Adventure         6.60\n",
            "13  1990      Fighting         6.66\n",
            "14  1990          Misc         5.67\n",
            "15  1990      Platform        22.33\n",
            "16  1990        Puzzle         8.13\n",
            "17  1990        Racing        13.23\n",
            "18  1990  Role-Playing        11.00\n",
            "19  1990       Shooter         5.46\n",
            "20  1990    Simulation         7.92\n",
            "21  1990        Sports         4.87\n",
            "22  1990      Strategy         3.78\n"
          ]
        },
        {
          "output_type": "display_data",
          "data": {
            "image/png": "[encoded data removed]",
            "text/plain": [
              "<Figure size 720x216 with 1 Axes>"
            ]
          },
          "metadata": {
            "needs_background": "light"
          }
        },
        {
          "output_type": "stream",
          "name": "stdout",
          "text": [
            "------------------------------------------------------------------------------------\n",
            "    Year         Genre  Total_Sales\n",
            "23  2000        Action         5.75\n",
            "24  2000     Adventure         2.23\n",
            "25  2000      Fighting         5.50\n",
            "26  2000          Misc         4.87\n",
            "27  2000      Platform         7.44\n",
            "28  2000        Puzzle         3.38\n",
            "29  2000        Racing         5.56\n",
            "30  2000  Role-Playing         6.64\n",
            "31  2000       Shooter         6.02\n",
            "32  2000    Simulation         5.35\n",
            "33  2000        Sports         5.72\n",
            "34  2000      Strategy         2.40\n"
          ]
        },
        {
          "output_type": "display_data",
          "data": {
            "image/png": "[encoded data removed]",
            "text/plain": [
              "<Figure size 720x216 with 1 Axes>"
            ]
          },
          "metadata": {
            "needs_background": "light"
          }
        },
        {
          "output_type": "stream",
          "name": "stdout",
          "text": [
            "------------------------------------------------------------------------------------\n",
            "    Year         Genre  Total_Sales\n",
            "35  2010        Action         3.29\n",
            "36  2010     Adventure         0.76\n",
            "37  2010      Fighting         2.87\n",
            "38  2010          Misc         2.92\n",
            "39  2010      Platform         5.52\n",
            "40  2010        Puzzle         1.17\n",
            "41  2010        Racing         3.46\n",
            "42  2010  Role-Playing         3.20\n",
            "43  2010       Shooter         8.37\n",
            "44  2010    Simulation         2.98\n",
            "45  2010        Sports         4.18\n",
            "46  2010      Strategy         1.25\n"
          ]
        },
        {
          "output_type": "display_data",
          "data": {
            "image/png": "[encoded data removed]",
            "text/plain": [
              "<Figure size 720x216 with 1 Axes>"
            ]
          },
          "metadata": {
            "needs_background": "light"
          }
        },
        {
          "output_type": "stream",
          "name": "stdout",
          "text": [
            "------------------------------------------------------------------------------------\n"
          ]
        }
      ]
    },
    {
      "cell_type": "code",
      "metadata": {
        "id": "_bPT4QvOamht",
        "colab": {
          "base_uri": "https://localhost:8080/",
          "height": 581
        },
        "outputId": "2144ba68-e0de-4951-c40e-144e4d45b499"
      },
      "source": [
        "#출고량이 높은 게임에 대한 분석 및 시각화 프로세스\n",
        "\n",
        "df_3= df.sort_values(by=[\"Total_Sales\"],ascending=[False]) \n",
        "print(df_3.head(10))\n",
        "\n",
        "#Top Sales 3게임\n",
        "top3=pd.DataFrame([df.loc[2908],df.loc[4199],df.loc[12579]])\n",
        "top3.reset_index(inplace=True)\n",
        "top3.drop(columns=['index'],inplace=True)\n",
        "top3\n",
        "\n",
        "top_sales=top3[['Name','NA_Sales','EU_Sales','JP_Sales','Other_Sales']]\n",
        "top_sales.set_index('Name',drop=True,inplace=True)\n",
        "top_sales\n",
        "\n",
        "top_salesbarh=top_sales.plot(kind=\"barh\",stacked=True,figsize=(10,5))\n",
        "plt.show(top_salesbarh)\n",
        "\n",
        "from scipy.stats import f_oneway\n",
        "wii=np.array([41.49,29.02,3.77,8.46])\n",
        "mario=np.array([29.08,3.58,6.81,0.77])\n",
        "kart=np.array([15.85,12.88,3.79,3.31])\n",
        "f_oneway(wii, mario, kart)\n"
      ],
      "execution_count": 157,
      "outputs": [
        {
          "output_type": "stream",
          "name": "stdout",
          "text": [
            "                            Name Platform  ...  Other_Sales Total_Sales\n",
            "2908                  Wii Sports      Wii  ...         8.46       82.74\n",
            "4199           Super Mario Bros.      NES  ...         0.77       40.24\n",
            "12579             Mario Kart Wii      Wii  ...         3.31       35.83\n",
            "3352           Wii Sports Resort      Wii  ...         2.96       33.00\n",
            "7829    Pokemon Red/Pokemon Blue       GB  ...         1.00       31.38\n",
            "1203                      Tetris       GB  ...         0.58       30.26\n",
            "6937       New Super Mario Bros.       DS  ...         2.90       30.01\n",
            "3014                    Wii Play      Wii  ...         2.85       29.01\n",
            "16531  New Super Mario Bros. Wii      Wii  ...         2.26       28.61\n",
            "10488                  Duck Hunt      NES  ...         0.47       28.31\n",
            "\n",
            "[10 rows x 10 columns]\n"
          ]
        },
        {
          "output_type": "display_data",
          "data": {
            "image/png": "[encoded data removed]",
            "text/plain": [
              "<Figure size 720x360 with 1 Axes>"
            ]
          },
          "metadata": {
            "needs_background": "light"
          }
        },
        {
          "output_type": "execute_result",
          "data": {
            "text/plain": [
              "F_onewayResult(statistic=0.9678505136593755, pvalue=0.4161802476561245)"
            ]
          },
          "metadata": {},
          "execution_count": 157
        }
      ]
    }
  ]
}